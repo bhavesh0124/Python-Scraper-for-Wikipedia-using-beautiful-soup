{
 "cells": [
  {
   "cell_type": "code",
   "execution_count": 1,
   "metadata": {},
   "outputs": [],
   "source": [
    "import pandas as pd\n",
    "from requests import get\n",
    "import requests\n",
    "import csv\n",
    "import os\n",
    "#from mechanize import Browser\n",
    "from urllib3.util.retry import Retry\n",
    "import requests\n",
    "from urllib.request import urlopen\n",
    "from bs4 import BeautifulSoup , Tag\n",
    "import re\n",
    "from lxml.html import fromstring\n",
    "import time\n",
    "from random import choice\n",
    "from time import sleep"
   ]
  },
  {
   "cell_type": "code",
   "execution_count": 3,
   "metadata": {},
   "outputs": [
    {
     "ename": "FileNotFoundError",
     "evalue": "[Errno 2] File b'C:/Users/Bhavesh Singh Bisht/Desktop/companylink.csv' does not exist: b'C:/Users/Bhavesh Singh Bisht/Desktop/companylink.csv'",
     "output_type": "error",
     "traceback": [
      "\u001b[0;31m---------------------------------------------------------------------------\u001b[0m",
      "\u001b[0;31mFileNotFoundError\u001b[0m                         Traceback (most recent call last)",
      "\u001b[0;32m<ipython-input-3-4c747c5aa0b1>\u001b[0m in \u001b[0;36m<module>\u001b[0;34m\u001b[0m\n\u001b[0;32m----> 1\u001b[0;31m \u001b[0mdata\u001b[0m\u001b[0;34m=\u001b[0m\u001b[0mpd\u001b[0m\u001b[0;34m.\u001b[0m\u001b[0mread_csv\u001b[0m\u001b[0;34m(\u001b[0m\u001b[0;34m\"C:/Users/Bhavesh Singh Bisht/Desktop/companylink.csv\"\u001b[0m\u001b[0;34m,\u001b[0m\u001b[0mencoding\u001b[0m\u001b[0;34m=\u001b[0m\u001b[0;34m\"ISO-8859-1\"\u001b[0m\u001b[0;34m)\u001b[0m\u001b[0;34m\u001b[0m\u001b[0;34m\u001b[0m\u001b[0m\n\u001b[0m\u001b[1;32m      2\u001b[0m \u001b[0mcompany\u001b[0m\u001b[0;34m=\u001b[0m\u001b[0mdata\u001b[0m\u001b[0;34m[\u001b[0m\u001b[0;34m\"Company\"\u001b[0m\u001b[0;34m]\u001b[0m\u001b[0;34m.\u001b[0m\u001b[0mtolist\u001b[0m\u001b[0;34m(\u001b[0m\u001b[0;34m)\u001b[0m\u001b[0;34m\u001b[0m\u001b[0;34m\u001b[0m\u001b[0m\n\u001b[1;32m      3\u001b[0m \u001b[0;34m\u001b[0m\u001b[0m\n\u001b[1;32m      4\u001b[0m \u001b[0mcompany\u001b[0m\u001b[0;34m\u001b[0m\u001b[0;34m\u001b[0m\u001b[0m\n",
      "\u001b[0;32m~/.local/lib/python3.6/site-packages/pandas/io/parsers.py\u001b[0m in \u001b[0;36mparser_f\u001b[0;34m(filepath_or_buffer, sep, delimiter, header, names, index_col, usecols, squeeze, prefix, mangle_dupe_cols, dtype, engine, converters, true_values, false_values, skipinitialspace, skiprows, skipfooter, nrows, na_values, keep_default_na, na_filter, verbose, skip_blank_lines, parse_dates, infer_datetime_format, keep_date_col, date_parser, dayfirst, cache_dates, iterator, chunksize, compression, thousands, decimal, lineterminator, quotechar, quoting, doublequote, escapechar, comment, encoding, dialect, error_bad_lines, warn_bad_lines, delim_whitespace, low_memory, memory_map, float_precision)\u001b[0m\n\u001b[1;32m    683\u001b[0m         )\n\u001b[1;32m    684\u001b[0m \u001b[0;34m\u001b[0m\u001b[0m\n\u001b[0;32m--> 685\u001b[0;31m         \u001b[0;32mreturn\u001b[0m \u001b[0m_read\u001b[0m\u001b[0;34m(\u001b[0m\u001b[0mfilepath_or_buffer\u001b[0m\u001b[0;34m,\u001b[0m \u001b[0mkwds\u001b[0m\u001b[0;34m)\u001b[0m\u001b[0;34m\u001b[0m\u001b[0;34m\u001b[0m\u001b[0m\n\u001b[0m\u001b[1;32m    686\u001b[0m \u001b[0;34m\u001b[0m\u001b[0m\n\u001b[1;32m    687\u001b[0m     \u001b[0mparser_f\u001b[0m\u001b[0;34m.\u001b[0m\u001b[0m__name__\u001b[0m \u001b[0;34m=\u001b[0m \u001b[0mname\u001b[0m\u001b[0;34m\u001b[0m\u001b[0;34m\u001b[0m\u001b[0m\n",
      "\u001b[0;32m~/.local/lib/python3.6/site-packages/pandas/io/parsers.py\u001b[0m in \u001b[0;36m_read\u001b[0;34m(filepath_or_buffer, kwds)\u001b[0m\n\u001b[1;32m    455\u001b[0m \u001b[0;34m\u001b[0m\u001b[0m\n\u001b[1;32m    456\u001b[0m     \u001b[0;31m# Create the parser.\u001b[0m\u001b[0;34m\u001b[0m\u001b[0;34m\u001b[0m\u001b[0;34m\u001b[0m\u001b[0m\n\u001b[0;32m--> 457\u001b[0;31m     \u001b[0mparser\u001b[0m \u001b[0;34m=\u001b[0m \u001b[0mTextFileReader\u001b[0m\u001b[0;34m(\u001b[0m\u001b[0mfp_or_buf\u001b[0m\u001b[0;34m,\u001b[0m \u001b[0;34m**\u001b[0m\u001b[0mkwds\u001b[0m\u001b[0;34m)\u001b[0m\u001b[0;34m\u001b[0m\u001b[0;34m\u001b[0m\u001b[0m\n\u001b[0m\u001b[1;32m    458\u001b[0m \u001b[0;34m\u001b[0m\u001b[0m\n\u001b[1;32m    459\u001b[0m     \u001b[0;32mif\u001b[0m \u001b[0mchunksize\u001b[0m \u001b[0;32mor\u001b[0m \u001b[0miterator\u001b[0m\u001b[0;34m:\u001b[0m\u001b[0;34m\u001b[0m\u001b[0;34m\u001b[0m\u001b[0m\n",
      "\u001b[0;32m~/.local/lib/python3.6/site-packages/pandas/io/parsers.py\u001b[0m in \u001b[0;36m__init__\u001b[0;34m(self, f, engine, **kwds)\u001b[0m\n\u001b[1;32m    893\u001b[0m             \u001b[0mself\u001b[0m\u001b[0;34m.\u001b[0m\u001b[0moptions\u001b[0m\u001b[0;34m[\u001b[0m\u001b[0;34m\"has_index_names\"\u001b[0m\u001b[0;34m]\u001b[0m \u001b[0;34m=\u001b[0m \u001b[0mkwds\u001b[0m\u001b[0;34m[\u001b[0m\u001b[0;34m\"has_index_names\"\u001b[0m\u001b[0;34m]\u001b[0m\u001b[0;34m\u001b[0m\u001b[0;34m\u001b[0m\u001b[0m\n\u001b[1;32m    894\u001b[0m \u001b[0;34m\u001b[0m\u001b[0m\n\u001b[0;32m--> 895\u001b[0;31m         \u001b[0mself\u001b[0m\u001b[0;34m.\u001b[0m\u001b[0m_make_engine\u001b[0m\u001b[0;34m(\u001b[0m\u001b[0mself\u001b[0m\u001b[0;34m.\u001b[0m\u001b[0mengine\u001b[0m\u001b[0;34m)\u001b[0m\u001b[0;34m\u001b[0m\u001b[0;34m\u001b[0m\u001b[0m\n\u001b[0m\u001b[1;32m    896\u001b[0m \u001b[0;34m\u001b[0m\u001b[0m\n\u001b[1;32m    897\u001b[0m     \u001b[0;32mdef\u001b[0m \u001b[0mclose\u001b[0m\u001b[0;34m(\u001b[0m\u001b[0mself\u001b[0m\u001b[0;34m)\u001b[0m\u001b[0;34m:\u001b[0m\u001b[0;34m\u001b[0m\u001b[0;34m\u001b[0m\u001b[0m\n",
      "\u001b[0;32m~/.local/lib/python3.6/site-packages/pandas/io/parsers.py\u001b[0m in \u001b[0;36m_make_engine\u001b[0;34m(self, engine)\u001b[0m\n\u001b[1;32m   1133\u001b[0m     \u001b[0;32mdef\u001b[0m \u001b[0m_make_engine\u001b[0m\u001b[0;34m(\u001b[0m\u001b[0mself\u001b[0m\u001b[0;34m,\u001b[0m \u001b[0mengine\u001b[0m\u001b[0;34m=\u001b[0m\u001b[0;34m\"c\"\u001b[0m\u001b[0;34m)\u001b[0m\u001b[0;34m:\u001b[0m\u001b[0;34m\u001b[0m\u001b[0;34m\u001b[0m\u001b[0m\n\u001b[1;32m   1134\u001b[0m         \u001b[0;32mif\u001b[0m \u001b[0mengine\u001b[0m \u001b[0;34m==\u001b[0m \u001b[0;34m\"c\"\u001b[0m\u001b[0;34m:\u001b[0m\u001b[0;34m\u001b[0m\u001b[0;34m\u001b[0m\u001b[0m\n\u001b[0;32m-> 1135\u001b[0;31m             \u001b[0mself\u001b[0m\u001b[0;34m.\u001b[0m\u001b[0m_engine\u001b[0m \u001b[0;34m=\u001b[0m \u001b[0mCParserWrapper\u001b[0m\u001b[0;34m(\u001b[0m\u001b[0mself\u001b[0m\u001b[0;34m.\u001b[0m\u001b[0mf\u001b[0m\u001b[0;34m,\u001b[0m \u001b[0;34m**\u001b[0m\u001b[0mself\u001b[0m\u001b[0;34m.\u001b[0m\u001b[0moptions\u001b[0m\u001b[0;34m)\u001b[0m\u001b[0;34m\u001b[0m\u001b[0;34m\u001b[0m\u001b[0m\n\u001b[0m\u001b[1;32m   1136\u001b[0m         \u001b[0;32melse\u001b[0m\u001b[0;34m:\u001b[0m\u001b[0;34m\u001b[0m\u001b[0;34m\u001b[0m\u001b[0m\n\u001b[1;32m   1137\u001b[0m             \u001b[0;32mif\u001b[0m \u001b[0mengine\u001b[0m \u001b[0;34m==\u001b[0m \u001b[0;34m\"python\"\u001b[0m\u001b[0;34m:\u001b[0m\u001b[0;34m\u001b[0m\u001b[0;34m\u001b[0m\u001b[0m\n",
      "\u001b[0;32m~/.local/lib/python3.6/site-packages/pandas/io/parsers.py\u001b[0m in \u001b[0;36m__init__\u001b[0;34m(self, src, **kwds)\u001b[0m\n\u001b[1;32m   1915\u001b[0m         \u001b[0mkwds\u001b[0m\u001b[0;34m[\u001b[0m\u001b[0;34m\"usecols\"\u001b[0m\u001b[0;34m]\u001b[0m \u001b[0;34m=\u001b[0m \u001b[0mself\u001b[0m\u001b[0;34m.\u001b[0m\u001b[0musecols\u001b[0m\u001b[0;34m\u001b[0m\u001b[0;34m\u001b[0m\u001b[0m\n\u001b[1;32m   1916\u001b[0m \u001b[0;34m\u001b[0m\u001b[0m\n\u001b[0;32m-> 1917\u001b[0;31m         \u001b[0mself\u001b[0m\u001b[0;34m.\u001b[0m\u001b[0m_reader\u001b[0m \u001b[0;34m=\u001b[0m \u001b[0mparsers\u001b[0m\u001b[0;34m.\u001b[0m\u001b[0mTextReader\u001b[0m\u001b[0;34m(\u001b[0m\u001b[0msrc\u001b[0m\u001b[0;34m,\u001b[0m \u001b[0;34m**\u001b[0m\u001b[0mkwds\u001b[0m\u001b[0;34m)\u001b[0m\u001b[0;34m\u001b[0m\u001b[0;34m\u001b[0m\u001b[0m\n\u001b[0m\u001b[1;32m   1918\u001b[0m         \u001b[0mself\u001b[0m\u001b[0;34m.\u001b[0m\u001b[0munnamed_cols\u001b[0m \u001b[0;34m=\u001b[0m \u001b[0mself\u001b[0m\u001b[0;34m.\u001b[0m\u001b[0m_reader\u001b[0m\u001b[0;34m.\u001b[0m\u001b[0munnamed_cols\u001b[0m\u001b[0;34m\u001b[0m\u001b[0;34m\u001b[0m\u001b[0m\n\u001b[1;32m   1919\u001b[0m \u001b[0;34m\u001b[0m\u001b[0m\n",
      "\u001b[0;32mpandas/_libs/parsers.pyx\u001b[0m in \u001b[0;36mpandas._libs.parsers.TextReader.__cinit__\u001b[0;34m()\u001b[0m\n",
      "\u001b[0;32mpandas/_libs/parsers.pyx\u001b[0m in \u001b[0;36mpandas._libs.parsers.TextReader._setup_parser_source\u001b[0;34m()\u001b[0m\n",
      "\u001b[0;31mFileNotFoundError\u001b[0m: [Errno 2] File b'C:/Users/Bhavesh Singh Bisht/Desktop/companylink.csv' does not exist: b'C:/Users/Bhavesh Singh Bisht/Desktop/companylink.csv'"
     ]
    }
   ],
   "source": [
    "data=pd.read_csv(\"C:/Users/Bhavesh Singh Bisht/Desktop/companylink.csv\",encoding=\"ISO-8859-1\")\n",
    "company=data[\"Company\"].tolist()\n",
    "\n",
    "company"
   ]
  },
  {
   "cell_type": "code",
   "execution_count": 2,
   "metadata": {
    "scrolled": true
   },
   "outputs": [
    {
     "ename": "NameError",
     "evalue": "name 'company' is not defined",
     "output_type": "error",
     "traceback": [
      "\u001b[1;31m---------------------------------------------------------------------------\u001b[0m",
      "\u001b[1;31mNameError\u001b[0m                                 Traceback (most recent call last)",
      "\u001b[1;32m<ipython-input-2-c8f6006b03ca>\u001b[0m in \u001b[0;36m<module>\u001b[1;34m\u001b[0m\n\u001b[1;32m----> 1\u001b[1;33m \u001b[1;32mfor\u001b[0m \u001b[0mi\u001b[0m\u001b[1;33m,\u001b[0m \u001b[0mk\u001b[0m \u001b[1;32min\u001b[0m \u001b[0menumerate\u001b[0m\u001b[1;33m(\u001b[0m\u001b[0mcompany\u001b[0m\u001b[1;33m)\u001b[0m\u001b[1;33m:\u001b[0m\u001b[1;33m\u001b[0m\u001b[1;33m\u001b[0m\u001b[0m\n\u001b[0m\u001b[0;32m      2\u001b[0m     \u001b[0murl\u001b[0m \u001b[1;33m=\u001b[0m \u001b[1;34m\"https://www.google.com/search?q=bloomber profile+\"\u001b[0m\u001b[1;33m+\u001b[0m\u001b[0mk\u001b[0m\u001b[1;33m\u001b[0m\u001b[1;33m\u001b[0m\u001b[0m\n\u001b[0;32m      3\u001b[0m     \u001b[0msource_code\u001b[0m \u001b[1;33m=\u001b[0m \u001b[0mrequests\u001b[0m\u001b[1;33m.\u001b[0m\u001b[0mget\u001b[0m\u001b[1;33m(\u001b[0m\u001b[0murl\u001b[0m\u001b[1;33m)\u001b[0m\u001b[1;33m\u001b[0m\u001b[1;33m\u001b[0m\u001b[0m\n\u001b[0;32m      4\u001b[0m     \u001b[0mplain_text\u001b[0m \u001b[1;33m=\u001b[0m \u001b[0msource_code\u001b[0m\u001b[1;33m.\u001b[0m\u001b[0mtext\u001b[0m\u001b[1;33m\u001b[0m\u001b[1;33m\u001b[0m\u001b[0m\n\u001b[0;32m      5\u001b[0m     \u001b[0msoup\u001b[0m \u001b[1;33m=\u001b[0m \u001b[0mBeautifulSoup\u001b[0m\u001b[1;33m(\u001b[0m\u001b[0mplain_text\u001b[0m\u001b[1;33m)\u001b[0m\u001b[1;33m\u001b[0m\u001b[1;33m\u001b[0m\u001b[0m\n",
      "\u001b[1;31mNameError\u001b[0m: name 'company' is not defined"
     ]
    }
   ],
   "source": [
    "for i, k in enumerate(company):\n",
    "    url = \"https://www.google.com/search?q=bloomber profile+\"+k   \n",
    "    source_code = requests.get(url)\n",
    "    plain_text = source_code.text\n",
    "    soup = BeautifulSoup(plain_text)\n",
    "    date=soup.find('div',attrs={\"class\":\"kCrYT\"})\n",
    "    try:\n",
    "        a = date.find('a')\n",
    "        x=(a.get('href').replace(\"/url?q=\",\"\"))\n",
    "        x=(x.split('&')[0]) \n",
    "        data.loc[i,\"Link\"]=x\n",
    "    except:\n",
    "        pass\n",
    "        \n",
    "    url = \"https://www.google.com/search?q=crunchbase \"+k\n",
    "    source_code = requests.get(url)\n",
    "    plain_text = source_code.text\n",
    "    soup = BeautifulSoup(plain_text)\n",
    "    date=soup.find('div',attrs={\"class\":\"kCrYT\"})\n",
    "    try:\n",
    "        a = date.find('a')\n",
    "        x=(a.get('href').replace(\"/url?q=\",\"\"))\n",
    "        x=(x.split('&')[0]) \n",
    "        data.loc[i,\"Crunchbase\"]=x\n",
    "    except:\n",
    "        pass\n",
    "    \n",
    "    url = \"https://www.google.com/search?q=Linkedin \"+k\n",
    "    source_code = requests.get(url)\n",
    "    plain_text = source_code.text\n",
    "    soup = BeautifulSoup(plain_text)\n",
    "    date=soup.find('div',attrs={\"class\":\"kCrYT\"})\n",
    "    try:\n",
    "        a = date.find('a')\n",
    "        x=(a.get('href').replace(\"/url?q=\",\"\"))\n",
    "        x=(x.split('&')[0]) \n",
    "        data.loc[i,\"Linkedin\"]=x\n",
    "    except:\n",
    "        pass\n",
    "    \n",
    "\n",
    "data.to_csv(\"test1.csv\")\n",
    "\n",
    "        \n",
    "        \n",
    "#for link in date: link\n",
    "    \n",
    "#soup.prettify()\n",
    "\n",
    "\n",
    "#tags=date[0].find_all(\"a\")\n",
    "#links=tags[0]['href'].replace(\"/url?q=\",\"\")\n",
    "#print (links)\n",
    "\n"
   ]
  },
  {
   "cell_type": "code",
   "execution_count": 88,
   "metadata": {},
   "outputs": [
    {
     "data": {
      "text/plain": [
       "'https://en.wikipedia.org/wiki/Ford_Motor_Company'"
      ]
     },
     "execution_count": 88,
     "metadata": {},
     "output_type": "execute_result"
    }
   ],
   "source": [
    "url\n"
   ]
  },
  {
   "cell_type": "code",
   "execution_count": 4,
   "metadata": {},
   "outputs": [],
   "source": [
    "import requests\n",
    " \n",
    "headers = {\n",
    "    'User-Agent': \"Mozilla/5.0 (Windows NT 10.0; Win64; x64) AppleWebKit/537.36 (KHTML, like Gecko) Chrome/65.0.3325.181 Safari/537.36\"\n",
    "    }\n",
    " \n",
    "html = requests.get('http://python-forum.io/', headers=headers).content"
   ]
  },
  {
   "cell_type": "code",
   "execution_count": 5,
   "metadata": {},
   "outputs": [
    {
     "data": {
      "text/plain": [
       "<!DOCTYPE html>\n",
       "<html>\n",
       "<head>\n",
       "<title>Bloomberg - Are you a robot?</title>\n",
       "<meta content=\"width=device-width, initial-scale=1\" name=\"viewport\"/>\n",
       "<link href=\"https://assets.bwbx.io/font-service/css/BWHaasGrotesk-55Roman-Web,BWHaasGrotesk-75Bold-Web,BW%20Haas%20Text%20Mono%20A-55%20Roman/font-face.css\" rel=\"stylesheet\" type=\"text/css\"/>\n",
       "<style rel=\"stylesheet\" type=\"text/css\">\n",
       "        html, body, div, span, applet, object, iframe,\n",
       "        h1, h2, h3, h4, h5, h6, p, blockquote, pre,\n",
       "        a, abbr, acronym, address, big, cite, code,\n",
       "        del, dfn, em, img, ins, kbd, q, s, samp,\n",
       "        small, strike, strong, sub, sup, tt, var,\n",
       "        b, u, i, center,\n",
       "        dl, dt, dd, ol, ul, li,\n",
       "        fieldset, form, label, legend,\n",
       "        table, caption, tbody, tfoot, thead, tr, th, td,\n",
       "        article, aside, canvas, details, embed,\n",
       "        figure, figcaption, footer, header, hgroup,\n",
       "        menu, nav, output, ruby, section, summary,\n",
       "        time, mark, audio, video {\n",
       "            margin: 0;\n",
       "            padding: 0;\n",
       "            border: 0;\n",
       "            font-size: 100%;\n",
       "            font: inherit;\n",
       "            vertical-align: baseline;\n",
       "        }\n",
       "        /* HTML5 display-role reset for older browsers */\n",
       "        article, aside, details, figcaption, figure,\n",
       "        footer, header, hgroup, menu, nav, section {\n",
       "            display: block;\n",
       "        }\n",
       "        body {\n",
       "            line-height: 1;\n",
       "        }\n",
       "        ol, ul {\n",
       "            list-style: none;\n",
       "        }\n",
       "        blockquote, q {\n",
       "            quotes: none;\n",
       "        }\n",
       "        blockquote:before, blockquote:after,\n",
       "        q:before, q:after {\n",
       "            content: '';\n",
       "            content: none;\n",
       "        }\n",
       "        table {\n",
       "            border-collapse: collapse;\n",
       "            border-spacing: 0;\n",
       "        }\n",
       "\n",
       "        * {\n",
       "            box-sizing: border-box;\n",
       "        }\n",
       "\n",
       "        body {\n",
       "            background-color: #f2f2f2;\n",
       "            font-family: \"BWHaasGrotesk-55Roman-Web\";\n",
       "            line-height: 1.2;\n",
       "        }\n",
       "\n",
       "        .header {\n",
       "            margin: 0;\n",
       "            height: 60px;\n",
       "            width: 100%;\n",
       "            background-color: black;\n",
       "            color: white;\n",
       "            overflow-x: hidden;\n",
       "        }\n",
       "\n",
       "        .logo {\n",
       "            float: left;\n",
       "            margin: 0 20px;\n",
       "            height: 60px;\n",
       "            width: 140px;\n",
       "            background-image: url('data:image/svg+xml;base64,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');\n",
       "            background-repeat: no-repeat;\n",
       "            background-position: center;\n",
       "            font-size: 0;\n",
       "        }\n",
       "\n",
       "        .contact-us {\n",
       "            float: right;\n",
       "            margin: 0 20px;\n",
       "            line-height: 60px;\n",
       "            font-family: \"BWHaasGrotesk-55Roman-Web\";\n",
       "            font-size: 14px;\n",
       "            color: white;\n",
       "            text-decoration: underline;\n",
       "        }\n",
       "\n",
       "        .box {\n",
       "            margin: 30px auto;\n",
       "            padding: 30px;\n",
       "            width: 680px;\n",
       "            background-color: white;\n",
       "        }\n",
       "\n",
       "        @media (max-width:760px) {\n",
       "            .box {\n",
       "                width: calc(100% - 20px);\n",
       "            }\n",
       "        }\n",
       "\n",
       "        .main__heading, .info__heading {\n",
       "            font-family: \"BWHaasGrotesk-75Bold-Web\";\n",
       "        }\n",
       "\n",
       "        .main__heading {\n",
       "            font-size: 19px;\n",
       "            padding-bottom: 9px;\n",
       "        }\n",
       "\n",
       "        .continue {\n",
       "            font-size: 18px;\n",
       "        }\n",
       "\n",
       "        #px-captcha {\n",
       "            margin-top: 20px;\n",
       "            min-height: 80px;\n",
       "        }\n",
       "\n",
       "        .info {\n",
       "            border-top: dotted 1px black;\n",
       "            padding-top: 9px;\n",
       "        }\n",
       "\n",
       "        .info + .info {\n",
       "            margin-top: 30px;\n",
       "        }\n",
       "\n",
       "        .info__link {\n",
       "            color: black;\n",
       "            text-decoration: underline;\n",
       "        }\n",
       "\n",
       "        .info__heading {\n",
       "            font-size: 16px;\n",
       "            line-height: 20px;\n",
       "            padding-bottom: 9px;\n",
       "        }\n",
       "\n",
       "        .info__text {\n",
       "            padding-bottom: 9px;\n",
       "        }\n",
       "\n",
       "        #block_uuid {\n",
       "            display: inline-block;\n",
       "            padding: 6px;\n",
       "            background-color: #f2f2f2;\n",
       "            font-family: \"BW Haas Text Mono A-55 Roman\";\n",
       "            font-size: 14px;\n",
       "        }\n",
       "\n",
       "    </style>\n",
       "<script>\n",
       "        window._pxAppId = \"PX8FCGYgk4\";\n",
       "        window._pxJsClientSrc = \"/8FCGYgk4/init.js\";\n",
       "        window._pxFirstPartyEnabled = true;\n",
       "        window._pxHostUrl = \"/8FCGYgk4/xhr\";\n",
       "        window._pxreCaptchaTheme = \"light\";\n",
       "        window._pxUuid = qs(\"uuid\");\n",
       "\n",
       "        if(!window._pxUuid) {\n",
       "            window.pxInit = function (px) {\n",
       "                px.Events.one(\"uid\", function (uuid) {\n",
       "                    if (uuid) {\n",
       "                        document.getElementById(\"block_uuid\").innerText = \"Block reference ID: \" + uuid;\n",
       "                    }\n",
       "                });\n",
       "            };\n",
       "        }\n",
       "\n",
       "        function qs(name) {\n",
       "            var search = window.location.search;\n",
       "            var rx = new RegExp(\"[?&]\" + name + \"(=([^&#]*)|&|#|$)\");\n",
       "            var match = rx.exec(search);\n",
       "            return match ? decodeURIComponent(match[2].replace(/\\+/g, \" \")) : \"\";\n",
       "        }\n",
       "    </script>\n",
       "<script async=\"\" src=\"/8FCGYgk4/captcha/captcha.js?a=c&amp;m=0\"></script>\n",
       "</head>\n",
       "<body>\n",
       "<header class=\"header\">\n",
       "<h1 class=\"logo\">Bloomberg</h1>\n",
       "<a class=\"contact-us\" href=\"/feedback\">Need help? Contact us</a>\n",
       "</header>\n",
       "<section class=\"box main\">\n",
       "<h2 class=\"main__heading\">We've detected unusual activity from your computer network</h2>\n",
       "<p class=\"continue\">To continue, please click the box below to let us know you're not a robot.</p>\n",
       "<div id=\"px-captcha\"></div>\n",
       "</section>\n",
       "<section class=\"box\">\n",
       "<section class=\"info\">\n",
       "<h3 class=\"info__heading\">Why did this happen?</h3>\n",
       "<p class=\"info__text\">Please make sure your browser supports JavaScript and cookies and that you are not blocking them from loading. For more information you can review our <a class=\"info__link\" href=\"/notices/tos\">Terms of Service</a> and <a class=\"info__link\" href=\"/notices/tos\">Cookie Policy</a>.</p>\n",
       "</section>\n",
       "<section class=\"info\">\n",
       "<h3 class=\"info__heading\">Need Help?</h3>\n",
       "<p class=\"info__text\">For inquiries related to this message please <a class=\"info__link\" href=\"/feedback\">contact our support team</a> and provide the reference ID below.</p>\n",
       "<div id=\"block_uuid\">Block reference ID: </div>\n",
       "</section>\n",
       "</section>\n",
       "<script type=\"text/javascript\">\n",
       "    document.getElementById(\"block_uuid\").innerText = \"Block reference ID: \" + window._pxUuid;\n",
       "    </script>\n",
       "<!-- Google Tag Manager -->\n",
       "<script>(function(w, d, s, l, i) {\n",
       "        w[l] = w[l] || [];\n",
       "        w[l].push({ 'gtm.start': new Date().getTime(), event: 'gtm.js' });\n",
       "        var f = d.getElementsByTagName(s)[0], j = d.createElement(s), dl = l != 'dataLayer' ? '&l=' + l : '';\n",
       "        j.defer = true;\n",
       "        j.src = 'https://www.googletagmanager.com/gtm.js?id=' + i + dl;\n",
       "        f.parentNode.insertBefore(j, f);\n",
       "    })(window, document, 'script', 'dataLayer', 'GTM-MNTH5N');</script>\n",
       "<!-- End Google Tag Manager -->\n",
       "</body>\n",
       "</html>"
      ]
     },
     "execution_count": 5,
     "metadata": {},
     "output_type": "execute_result"
    }
   ],
   "source": [
    "\n",
    "url=\"https://www.bloomberg.com/quote/PWF:CN\"\n",
    "\n",
    "user_agents = [\n",
    "    'Mozilla/5.0 (Windows; U; Windows NT 5.1; it; rv:1.8.1.11) Gecko/20071127 Firefox/2.0.0.11',\n",
    "    'Opera/9.25 (Windows NT 5.1; U; en)',\n",
    "    'Mozilla/4.0 (compatible; MSIE 6.0; Windows NT 5.1; SV1; .NET CLR 1.1.4322; .NET CLR 2.0.50727)',\n",
    "    'Mozilla/5.0 (compatible; Konqueror/3.5; Linux) KHTML/3.5.5 (like Gecko) (Kubuntu)',\n",
    "    'Mozilla/5.0 (Windows NT 5.1) AppleWebKit/535.19 (KHTML, like Gecko) Chrome/18.0.1025.142 Safari/535.19',\n",
    "    'Mozilla/5.0 (Macintosh; Intel Mac OS X 10.7; rv:11.0) Gecko/20100101 Firefox/11.0',\n",
    "    'Mozilla/5.0 (Macintosh; Intel Mac OS X 10.6; rv:8.0.1) Gecko/20100101 Firefox/8.0.1',\n",
    "    'Mozilla/5.0 (Windows NT 6.1; WOW64) AppleWebKit/535.19 (KHTML, like Gecko) Chrome/18.0.1025.151 Safari/535.19'\n",
    "]\n",
    "\n",
    "# headers = {\n",
    "#     'User-Agent': user_agents\n",
    "#     }\n",
    "\n",
    "r=range(1,4)\n",
    "\n",
    "sleep(choice(r))\n",
    "\n",
    "\n",
    "source_code = requests.get(url)\n",
    "plain_text=source_code.text\n",
    "soup = BeautifulSoup(plain_text,'lxml')\n",
    "soup\n",
    "#industry\n",
    "#Ind=soup.find('div',attrs={\"class\":\"infoTableItemValue__e188b0cb\"})\n",
    "#Ind.text\n",
    "#no.of employees\n",
    "#Ind=soup.find('div',attrs={\"class\":\"infoTableItemValue__e188b0cb\"})\n",
    "#Industry = data.text\n",
    "\n",
    "#My_table = soup.find(\"table\",{\"class\":\"infobox vcard\"})\n",
    "#i=0\n",
    "#for td in My_table.find_all('td'): \n",
    "    #if(i==)\n",
    "    \n",
    "#with open( \"abc.txt\" ,\"w\") as oFile:\n",
    " #   oFile.write(str(soup.html))\n",
    " #   oFile.close()"
   ]
  },
  {
   "cell_type": "code",
   "execution_count": 186,
   "metadata": {},
   "outputs": [],
   "source": [
    "##company___________________reading\n",
    "data1=pd.read_csv(\"bhavesh.csv\")\n",
    "company=data1[\"Company\"].tolist()\n",
    "\n",
    "company=company[200:]\n",
    "#company\n",
    "data=pd.DataFrame()"
   ]
  },
  {
   "cell_type": "code",
   "execution_count": 187,
   "metadata": {},
   "outputs": [],
   "source": [
    "#wikipedia Link_________________________________________________\n",
    "for i, k in enumerate(company):\n",
    "    url = \"https://www.google.com/search?q=\"+k+\"+Wikipedia\"   \n",
    "    source_code = requests.get(url)\n",
    "    plain_text = source_code.text\n",
    "    soup = BeautifulSoup(plain_text)\n",
    "    date=soup.find('div',attrs={\"class\":\"kCrYT\"})\n",
    "    data.loc[i,\"company\"]=k\n",
    "    try:\n",
    "        a = date.find('a')\n",
    "        x=(a.get('href').replace(\"/url?q=\",\"\"))\n",
    "        x=(x.split('&')[0]) \n",
    "        data.loc[i,\"Link\"]=x\n",
    "    except:\n",
    "        pass\n",
    "    time.sleep(0.5)\n",
    "    \n",
    "data.to_csv(\"test3(200-).csv\")\n"
   ]
  },
  {
   "cell_type": "code",
   "execution_count": 167,
   "metadata": {},
   "outputs": [
    {
     "data": {
      "text/plain": [
       "'https://www.google.com/search?q=SMTC Nova Scotia Company+Wikipedia'"
      ]
     },
     "execution_count": 167,
     "metadata": {},
     "output_type": "execute_result"
    }
   ],
   "source": []
  },
  {
   "cell_type": "code",
   "execution_count": 24,
   "metadata": {},
   "outputs": [
    {
     "data": {
      "text/plain": [
       "['https://en.wikipedia.org/wiki/Nova_Chemicals',\n",
       " 'https://en.wikipedia.org/wiki/Panasonic',\n",
       " 'https://en.wikipedia.org/wiki/Shawcor',\n",
       " 'https://en.wikipedia.org/wiki/Shopify',\n",
       " 'https://en.wikipedia.org/wiki/Toyota_Canada_Inc.',\n",
       " 'https://en.wikipedia.org/wiki/Tridel']"
      ]
     },
     "execution_count": 24,
     "metadata": {},
     "output_type": "execute_result"
    }
   ],
   "source": [
    "##____________________________working dir_____________________________\n",
    "data1=pd.read_csv(\"/home/bhavesh/Downloads/dest/test3(200-).csv\")\n",
    "Links=data1[\"Link\"].tolist()\n",
    "Links"
   ]
  },
  {
   "cell_type": "code",
   "execution_count": 25,
   "metadata": {},
   "outputs": [],
   "source": [
    "data=pd.DataFrame()\n",
    "for j,url in enumerate(Links):\n",
    "    source_code = requests.get(url)\n",
    "    plain_text = source_code.text\n",
    "    soup = BeautifulSoup(plain_text)\n",
    "    My_table = soup.find(\"table\",{\"class\":\"infobox vcard\"})\n",
    "    \n",
    "    try:\n",
    "        data.loc[j,\"Company\"]=My_table.find('caption').text\n",
    "        rows = My_table.find_all('tr')\n",
    "    \n",
    "        for i in rows:    \n",
    "            if(i.find('th',text=\"Industry\")):\n",
    "                data.loc[j,\"Industry\"]=(i.find('td').text)\n",
    "           # print(\"j\",j )\n",
    "            if(i.find('th',text=\"Founded\")):\n",
    "                data.loc[j,\"Founded\"]=(i.find('td').text.split(';')[0])\n",
    "\n",
    "            if(i.find('th',text=\"Founder\")):\n",
    "                data.loc[j,\"Founder\"]=(i.find('td').text)\n",
    "\n",
    "            if(i.find('th',text=\"Headquarters\")):\n",
    "                data.loc[j,\"Headquaters\"]=(i.find('td').text)\n",
    "\n",
    "            if(i.find('th',text=\"Revenue\")):\n",
    "                revenue=i.find('td').text.split('(')[0]\n",
    "                revenue=revenue[1:]\n",
    "                data.loc[j,\"Revenue\"]=revenue\n",
    "\n",
    "            if(i.find('th',text=\"Number of employees\")):\n",
    "                employees=(i.find('td').text.split('[')[0])\n",
    "                data.loc[j,\"No of employees\"]=employees\n",
    "            #print(data)\n",
    "    except:\n",
    "            pass  \n",
    " \n",
    "        #temp=temp+1\n",
    "#print(\"URL : \", url)   \n",
    "data.to_csv('test3(200-)result.csv')"
   ]
  },
  {
   "cell_type": "code",
   "execution_count": 300,
   "metadata": {},
   "outputs": [
    {
     "data": {
      "text/plain": [
       "['https://en.wikipedia.org/wiki/Maple_Leaf_Foods']"
      ]
     },
     "execution_count": 300,
     "metadata": {},
     "output_type": "execute_result"
    }
   ],
   "source": [
    "links=Links[-4]\n",
    "#links\n",
    "a=[]\n",
    "a.append(links)\n",
    "a"
   ]
  },
  {
   "cell_type": "code",
   "execution_count": 138,
   "metadata": {},
   "outputs": [
    {
     "ename": "IndexError",
     "evalue": "list index out of range",
     "output_type": "error",
     "traceback": [
      "\u001b[1;31m---------------------------------------------------------------------------\u001b[0m",
      "\u001b[1;31mIndexError\u001b[0m                                Traceback (most recent call last)",
      "\u001b[1;32m<ipython-input-138-df6269579c6c>\u001b[0m in \u001b[0;36m<module>\u001b[1;34m\u001b[0m\n\u001b[0;32m      3\u001b[0m \u001b[1;33m\u001b[0m\u001b[0m\n\u001b[0;32m      4\u001b[0m \u001b[0melements\u001b[0m \u001b[1;33m=\u001b[0m \u001b[0msoup\u001b[0m\u001b[1;33m.\u001b[0m\u001b[0mselect\u001b[0m\u001b[1;33m(\u001b[0m\u001b[1;34m'.source_code a'\u001b[0m\u001b[1;33m)\u001b[0m\u001b[1;33m\u001b[0m\u001b[1;33m\u001b[0m\u001b[0m\n\u001b[1;32m----> 5\u001b[1;33m \u001b[0mprint\u001b[0m\u001b[1;33m(\u001b[0m\u001b[0melements\u001b[0m\u001b[1;33m[\u001b[0m\u001b[1;36m0\u001b[0m\u001b[1;33m]\u001b[0m\u001b[1;33m[\u001b[0m\u001b[1;34m'href'\u001b[0m\u001b[1;33m]\u001b[0m\u001b[1;33m)\u001b[0m\u001b[1;33m\u001b[0m\u001b[1;33m\u001b[0m\u001b[0m\n\u001b[0m",
      "\u001b[1;31mIndexError\u001b[0m: list index out of range"
     ]
    }
   ],
   "source": [
    "soup = BeautifulSoup(plain_text, 'lxml')\n",
    "\n",
    "\n",
    "elements = soup.select('.source_code a')\n",
    "print(elements[0]['href'])\n"
   ]
  },
  {
   "cell_type": "code",
   "execution_count": 109,
   "metadata": {
    "collapsed": true
   },
   "outputs": [
    {
     "data": {
      "text/plain": [
       "'<!DOCTYPE html>\\n<html lang=\"en-IN\">\\n <head>\\n  <meta charset=\"utf-8\"/>\\n  <meta content=\"/images/branding/googleg/1x/googleg_standard_color_128dp.png\" itemprop=\"image\"/>\\n  <title>\\n   fordzoominfo - Google Search\\n  </title>\\n  <script nonce=\"6+cKmQNEejTs0XuLlRybEA==\">\\n   (function(){var a=window.performance;window.start=(new Date).getTime();a:{var b=window;if(a){var c=a.timing;if(c){var d=c.navigationStart,e=c.responseStart;if(e>d&&e<=window.start){window.start=e;b.wsrt=e-d;break a}}a.now&&(b.wsrt=Math.floor(a.now()))}}window.google=window.google||{};google.aft=function(f){f.setAttribute(\"data-iml\",+new Date)};}).call(this);(function(){window.jsarwt=function(){return!1};}).call(this);(function(){var c=[],e=0;window.ping=function(b){-1==b.indexOf(\"&zx\")&&(b+=\"&zx=\"+(new Date).getTime());var a=new Image,d=e++;c[d]=a;a.onerror=a.onload=a.onabort=function(){delete c[d]};a.src=b};}).call(this);\\n  </script>\\n  <style>\\n   body{margin:0 auto;max-width:736px;padding:0 8px}a{color:#1967D2;text-decoration:none;tap-highlight-color:rgba(0,0,0,.1)}a:visited{color:#4B11A8}a:hover{text-decoration:underline}img{border:0}html{font-family:Roboto,HelveticaNeue,Arial,sans-serif;font-size:14px;line-height:20px;text-size-adjust:100%;color:#3C4043;word-wrap:break-word;background-color:#fff}.bRsWnc{background-color:#fff;border-top:1px solid #e0e0e0;height:39px;overflow:hidden}.N6RWV{height:51px;overflow-scrolling:touch;overflow-x:auto;overflow-y:hidden}.Uv67qb{box-pack:justify;font-size:12px;line-height:37px;justify-content:space-between;justify-content:space-between}.Uv67qb a,.Uv67qb span{color:#757575;display:block;flex:none;padding:0 16px;text-align:center;text-transform:uppercase;}span.OXXup{border-bottom:2px solid #4285f4;color:#4285f4;font-weight:bold}a.eZt8xd:visited{color:#757575}.FElbsf{border-left:1px solid rgba(0,0,0,.12)}header article{overflow:visible}.Pg70bf{height:39px;display:box;display:flex;display:flex;width:100%}.H0PQec{position:relative;flex:1}.sbc{display:flex;width:100%}.Pg70bf input{margin:2px 4px 2px 8px;}.x{width:26px;color:#757575;font:27px/38px arial, sans-serif;line-height:40px;}#qdClwb{flex:0 0 auto;width:39px;height:39px;border-bottom:0;padding:0;border-top-right-radius:8px;background-color:#3b78e7;border:1px solid #3367d6;background-image:url(data:image/gif;base64,R0lGODdhJAAjAPIHAODr/nCk+MPZ/FmV96zK+/7+/5K5+kqL9iwAAAAAJAAjAEADani63P4wykmbKcQRXDscQAEMXmmeaLQVLCukzyC09AjfeK7v/MAajACLhPMVAgwjsUcEiZa8xgAYrVqv2Kx2iwsIAAABknfBBAKrTE4IcMyot8ur8datqIbQfJdnAfo2WE6BV05wXIiJigkAOw==);}.sc{font-size:;position:absolute;top:39px;left:0;right:0;box-shadow:0px 2px 5px rgba(0,0,0,0.2);z-index:2;background-color:#fff}.sc>div{padding:10px 10px;padding-left:16px;padding-left:14px;border-top:1px solid #DFE1E5}.scs{background-color:#f5f5f5;}.noHIxc{display:block;font-size:16px;padding:0 0 0 8px;flex:1;height:35px;outline:none;border:none;width:100%;-webkit-tap-highlight-color:rgba(0,0,0,0);overflow:hidden;}.sbc input[type=text]{background:none}.sml .cOl4Id{display:none}.l{display:none}.sml header{background:none}.sml .l{display:block;padding:0 8px}.sml .l{letter-spacing:-1px;text-align:center;border-radius:2px 0 0 0;font:22px/36px Futura, Arial, sans-serif;font-smoothing:antialiased}.bz1lBb{background:#fff;border-radius:8px 8px 0 0;box-shadow:0 1px 6px rgba(32, 33, 36, 0.18);margin-top:10px}.KP7LCb{border-radius:0 0 8px 8px;box-shadow:0 2px 3px rgba(32, 33, 36, 0.18);margin-bottom:10px;overflow:hidden}.cOl4Id{letter-spacing:-1px;text-align:center;font:22pt Futura, Arial, sans-serif;padding:10px 0 5px 0;height:37px;font-smoothing:antialiased}.cOl4Id span{display:inline-block}.S591j{height:100%}.V6gwVd{color:#4285F4}.iWkuvd{color:#EA4335}.cDrQ7{color:#fbcc05}.ntlR9{color:#34A853}.tJ3Myc{-webkit-transform:rotate(-20deg);position:relative;left:-1px;display:inline-block}footer{text-align:center;margin-top:18px}footer a,footer a:visited,.smiUbb{color:#5f6368}.ksTU4c{margin:0 13px}#mCljob{margin-top:36px}#mCljob>div{margin:20px}\\n  </style>\\n </head>\\n <body jsmodel=\" \">\\n  <header id=\"hdr\">\\n   <script nonce=\"6+cKmQNEejTs0XuLlRybEA==\">\\n    (function(){var c=500;(function(){window.screen&&window.screen.width<=c&&window.screen.height<=c&&document.getElementById(\"hdr\").classList.add(\"sml\");}).call(this);})();\\n   </script>\\n   <div class=\"cOl4Id\">\\n    <a href=\"/?sa=X&amp;ved=0ahUKEwi58rLZzLvkAhUSDbkGHXf_BdoQOwgC\">\\n     <span class=\"V6gwVd\">\\n      G\\n     </span>\\n     <span class=\"iWkuvd\">\\n      o\\n     </span>\\n     <span class=\"cDrQ7\">\\n      o\\n     </span>\\n     <span class=\"V6gwVd\">\\n      g\\n     </span>\\n     <span class=\"ntlR9\">\\n      l\\n     </span>\\n     <span class=\"iWkuvd tJ3Myc\">\\n      e\\n     </span>\\n    </a>\\n   </div>\\n   <div class=\"bz1lBb\">\\n    <form class=\"Pg70bf\" id=\"sf\">\\n     <a class=\"l\" href=\"/?output=search&amp;ie=UTF-8&amp;sa=X&amp;ved=0ahUKEwi58rLZzLvkAhUSDbkGHXf_BdoQPAgE\">\\n      <span class=\"V6gwVd\">\\n       G\\n      </span>\\n      <span class=\"iWkuvd\">\\n       o\\n      </span>\\n      <span class=\"cDrQ7\">\\n       o\\n      </span>\\n      <span class=\"V6gwVd\">\\n       g\\n      </span>\\n      <span class=\"ntlR9\">\\n       l\\n      </span>\\n      <span class=\"iWkuvd tJ3Myc\">\\n       e\\n      </span>\\n     </a>\\n     <input name=\"ie\" type=\"hidden\" value=\"ISO-8859-1\"/>\\n     <div class=\"H0PQec\">\\n      <div class=\"sbc esbc\">\\n       <input autocapitalize=\"none\" autocomplete=\"off\" class=\"noHIxc\" name=\"q\" spellcheck=\"false\" type=\"text\" value=\"fordzoominfo\"/>\\n       <input name=\"oq\" type=\"hidden\"/>\\n       <input name=\"aqs\" type=\"hidden\"/>\\n       <div class=\"x\">\\n        ×\\n       </div>\\n       <div class=\"sc\">\\n       </div>\\n      </div>\\n     </div>\\n     <button id=\"qdClwb\" type=\"submit\">\\n     </button>\\n    </form>\\n   </div>\\n   <noscript>\\n    <meta content=\"0;url=/search?q=fordzoominfo&amp;ie=UTF-8&amp;gbv=1&amp;sei=swByXfnMBZKa5OUP9_6X0A0\" http-equiv=\"refresh\"/>\\n    <style>\\n     table,div,span,p{display:none}\\n    </style>\\n    <div style=\"display:block\">\\n     Please click\\n     <a href=\"/search?q=fordzoominfo&amp;ie=UTF-8&amp;gbv=1&amp;sei=swByXfnMBZKa5OUP9_6X0A0\">\\n      here\\n     </a>\\n     if you are not redirected within a few seconds.\\n    </div>\\n   </noscript>\\n  </header>\\n  <div id=\"main\">\\n   <div>\\n    <div class=\"KP7LCb\">\\n     <div class=\"bRsWnc\">\\n      <div class=\"N6RWV\">\\n       <div class=\"Pg70bf Uv67qb\">\\n        <span class=\"OXXup\">\\n         All\\n        </span>\\n        <a class=\"eZt8xd\" href=\"/search?q=ford+zoominfo&amp;ie=UTF-8&amp;source=lnms&amp;tbm=nws&amp;sa=X&amp;ved=0ahUKEwi58rLZzLvkAhUSDbkGHXf_BdoQ_AUICCgB\">\\n         News\\n        </a>\\n        <a class=\"eZt8xd\" href=\"/search?q=ford+zoominfo&amp;ie=UTF-8&amp;source=lnms&amp;tbm=isch&amp;sa=X&amp;ved=0ahUKEwi58rLZzLvkAhUSDbkGHXf_BdoQ_AUICSgC\">\\n         Images\\n        </a>\\n        <a class=\"eZt8xd\" href=\"/search?q=ford+zoominfo&amp;ie=UTF-8&amp;source=lnms&amp;tbm=shop&amp;sa=X&amp;ved=0ahUKEwi58rLZzLvkAhUSDbkGHXf_BdoQ_AUICigD\">\\n         Shopping\\n        </a>\\n        <a href=\"http://maps.google.com/maps?q=ford+zoominfo&amp;um=1&amp;ie=UTF-8&amp;sa=X&amp;ved=0ahUKEwi58rLZzLvkAhUSDbkGHXf_BdoQ_AUICygE\">\\n         Maps\\n        </a>\\n        <a href=\"/search?q=ford+zoominfo&amp;ie=UTF-8&amp;source=lnms&amp;tbm=vid&amp;sa=X&amp;ved=0ahUKEwi58rLZzLvkAhUSDbkGHXf_BdoQ_AUIDCgF\">\\n         Videos\\n        </a>\\n        <a href=\"/search?q=ford+zoominfo&amp;ie=UTF-8&amp;source=lnms&amp;tbm=bks&amp;sa=X&amp;ved=0ahUKEwi58rLZzLvkAhUSDbkGHXf_BdoQ_AUIDSgG\">\\n         Books\\n        </a>\\n        <div class=\"FElbsf\">\\n         <a href=\"/advanced_search\" id=\"st-toggle\" role=\"button\" style=\"white-space:nowrap\">\\n          Search tools\\n         </a>\\n        </div>\\n       </div>\\n      </div>\\n     </div>\\n    </div>\\n    <div class=\"Pg70bf wEsjbd ZINbbc xpd O9g5cc uUPGi\" id=\"st-card\" style=\"display:none\">\\n     <style>\\n      .wEsjbd{background-color:#fff;height:44px;white-space:nowrap}.coPU8c{height:60px;overflow-scrolling:touch;overflow-x:auto;overflow-y:hidden}.Xj2aue{height:44px;overflow:hidden}.RnNGze{margin:11px 16px}.wEsjbd div,.wEsjbd a,.wEsjbd li{outline-width:0;outline:none}\\n     </style>\\n     <div class=\"Xj2aue\">\\n      <div class=\"coPU8c\">\\n       <div class=\"RnNGze\">\\n        <style>\\n         .PA9J5{display:inline-block}.RXaOfd{display:inline-block;height:22px;position:relative;padding-top:0;padding-bottom:0;padding-right:16px;padding-left:0;line-height:22px;cursor:pointer;text-transform:uppercase;font-size:12px;color:#757575}.sa1toc{display:none;position:absolute;background:#fff;border:1px solid #d6d6d6;box-shadow:0 2px 4px rgba(0,0,0,0.3);margin:0;white-space:nowrap;z-index:103;line-height:17px;padding-top:5px;padding-bottom:5px;padding-left:0px}.PA9J5:hover .sa1toc{display:block}.mGSy8d a:active,.RXaOfd:active{color:#4285f4}\\n        </style>\\n        <div class=\"PA9J5\">\\n         <div class=\"RXaOfd\" role=\"button\" tabindex=\"0\">\\n          <style>\\n           .TWMOUc{display:inline-block;padding-right:14px;white-space:nowrap}.vQYuGf{font-weight:bold}.OmTIzf{border-color:#909090 transparent;border-style:solid;border-width:4px 4px 0 4px;width:0;height:0;margin-left:-10px;top:50%;margin-top:-2px;position:absolute}.RXaOfd:active .OmTIzf{border-color:#4285f4 transparent}\\n          </style>\\n          <div class=\"TWMOUc\">\\n           Any time\\n          </div>\\n          <span class=\"OmTIzf\">\\n          </span>\\n         </div>\\n         <ul class=\"sa1toc ozatM\">\\n          <style>\\n           .ozatM{font-size:12px;text-transform:uppercase}.ozatM .yNFsl,.ozatM li{list-style-type:none;list-style-position:outside;list-style-image:none}.yNFsl.SkUj4c,.yNFsl a{color:rgba(0,0,0,0.54);text-decoration:none;padding:6px 44px 6px 14px;line-height:17px;display:block}.SkUj4c{background-image:url(//ssl.gstatic.com/ui/v1/menu/checkmark2.png);background-position:right center;background-repeat:no-repeat}.SkUj4c:active{background-color:#f5f5f5}\\n          </style>\\n          <li class=\"yNFsl SkUj4c\">\\n           Any time\\n          </li>\\n          <li class=\"yNFsl\">\\n           <a href=\"/search?q=ford+zoominfo&amp;ie=UTF-8&amp;source=lnt&amp;tbs=qdr:h&amp;sa=X&amp;ved=0ahUKEwi58rLZzLvkAhUSDbkGHXf_BdoQpwUIDw\">\\n            Past hour\\n           </a>\\n          </li>\\n          <li class=\"yNFsl\">\\n           <a href=\"/search?q=ford+zoominfo&amp;ie=UTF-8&amp;source=lnt&amp;tbs=qdr:d&amp;sa=X&amp;ved=0ahUKEwi58rLZzLvkAhUSDbkGHXf_BdoQpwUIEA\">\\n            Past 24 hours\\n           </a>\\n          </li>\\n          <li class=\"yNFsl\">\\n           <a href=\"/search?q=ford+zoominfo&amp;ie=UTF-8&amp;source=lnt&amp;tbs=qdr:w&amp;sa=X&amp;ved=0ahUKEwi58rLZzLvkAhUSDbkGHXf_BdoQpwUIEQ\">\\n            Past week\\n           </a>\\n          </li>\\n          <li class=\"yNFsl\">\\n           <a href=\"/search?q=ford+zoominfo&amp;ie=UTF-8&amp;source=lnt&amp;tbs=qdr:m&amp;sa=X&amp;ved=0ahUKEwi58rLZzLvkAhUSDbkGHXf_BdoQpwUIEg\">\\n            Past month\\n           </a>\\n          </li>\\n          <li class=\"yNFsl\">\\n           <a href=\"/search?q=ford+zoominfo&amp;ie=UTF-8&amp;source=lnt&amp;tbs=qdr:y&amp;sa=X&amp;ved=0ahUKEwi58rLZzLvkAhUSDbkGHXf_BdoQpwUIEw\">\\n            Past year\\n           </a>\\n          </li>\\n         </ul>\\n        </div>\\n        <div class=\"PA9J5\">\\n         <div class=\"RXaOfd\" role=\"button\" tabindex=\"0\">\\n          <div class=\"TWMOUc\">\\n           All results\\n          </div>\\n          <span class=\"OmTIzf\">\\n          </span>\\n         </div>\\n         <ul class=\"sa1toc ozatM\">\\n          <li class=\"yNFsl SkUj4c\">\\n           All results\\n          </li>\\n          <li class=\"yNFsl\">\\n           <a href=\"/search?q=fordzoominfo&amp;ie=UTF-8&amp;source=lnt&amp;tbs=li:1&amp;sa=X&amp;ved=0ahUKEwi58rLZzLvkAhUSDbkGHXf_BdoQpwUIFQ\">\\n            Verbatim\\n           </a>\\n          </li>\\n         </ul>\\n        </div>\\n       </div>\\n      </div>\\n     </div>\\n     <script nonce=\"6+cKmQNEejTs0XuLlRybEA==\">\\n      (function(){var a=document.getElementById(\"st-toggle\"),b=document.getElementById(\"st-card\");a&&b&&a.addEventListener(\"click\",function(c){b.style.display=b.style.display?\"\":\"none\";c.preventDefault()},!1);}).call(this);\\n     </script>\\n    </div>\\n   </div>\\n   <style>\\n    .ZINbbc{background-color:#fff;margin-bottom:10px;box-shadow:0 1px 6px rgba(32, 33, 36, 0.28);border-radius:8px}.uUPGi{font-size:14px;line-height:20px;}.O9g5cc>*:first-child{border-top-left-radius:8px;border-top-right-radius:8px}.O9g5cc>*:last-child{border-bottom-left-radius:8px;border-bottom-right-radius:8px}.rLshyf,.BmP5tf{padding-top:12px;padding-bottom:12px}.w1C3Le,.BmP5tf,.G5NbBd{padding-left:16px;padding-right:16px;}.G5NbBd{padding-bottom:12px}.MUxGbd{font-size:14px;font-family:Roboto,HelveticaNeue,Arial,sans-serif;line-height:20px;padding-top:1px;margin-bottom:-1px}.MUxGbd.v0nnCb{font-size:16px;line-height:20px;padding-top:1px;margin-bottom:-1px;}.lyLwlc{color:#202124}a.fdYsqf{color:#4B11A8}.rl7ilb{display:block;clear:both}.lcJF1d{margin-left:16px;float:right;}.kCrYT{padding:12px 16px 12px}.BNeawe{white-space:pre-line;word-wrap:break-word}.vvjwJb{color:#1967D2;font-size:16px;line-height:20px}.vvjwJb a:visited{color:#4B11A8}.vvjwJb.HrGdeb{color:rgba(255,255,255,1)}.vvjwJb.HrGdeb a:visited{color:rgba(255,255,255,.7)}.UPmit{font-size:14px;line-height:20px}.UPmit.HrGdeb{color:rgba(255,255,255,.7)}.UPmit.AP7Wnd{color:rgba(0,102,33,1)}.x54gtf{height:1px;background-color:#dfe1e5;margin:0 16px}.Ap5OSd{padding-bottom:12px}.s3v9rd{font-size:14px;line-height:20px}.s3v9rd.HrGdeb{color:rgba(255,255,255,1)}.s3v9rd.AP7Wnd{color:#202124}.mSx1Ee{padding-left:48px;margin:0}.v9i61e{padding-bottom:8px}.r0bn4c.tr0dw{color:rgba(255,255,255,.7)}.r0bn4c.rQMQod{color:#70757A}.ZTv9Bb{display:block}.deIvCb{font-size:16px;line-height:20px;font-weight:400}.deIvCb.HrGdeb{color:rgba(255,255,255,1)}.deIvCb.AP7Wnd{color:#202124}.FCUp0c{font-weight:bold}.X7NTVe{display:table;width:100%;padding-right:16px;box-sizing:border-box}.tHmfQe{display:table-cell;padding:12px 0 12px 16px}.UHtrk{width:72px}.HBTM6d{width:30px}.XS7yGd{display:table-cell;text-align:center;vertical-align:middle;padding:12px 0 12px 8px}.am3QBf{display:table;vertical-align:top}.Icx6Cd{margin:0 auto 8px}.mAdjQc{text-align:right}.uEec3{font-size:12px;line-height:16px}.uEec3.HrGdeb{color:rgba(255,255,255,.7)}.uEec3.AP7Wnd{color:#70757A}.nMymef{display:flex}.G5eFlf{flex:1;display:block}.nMymef span{text-align:center}\\n   </style>\\n   <div>\\n    <!--SW_C_X-->\\n   </div>\\n   <div class=\"ZINbbc xpd O9g5cc uUPGi\">\\n    <div class=\"BmP5tf\" id=\"scc\">\\n     <div class=\"MUxGbd v0nnCb lyLwlc\">\\n      Showing results for\\n      <a data-ved=\"2ahUKEwi58rLZzLvkAhUSDbkGHXf_BdoQkeECegQICxAB\" href=\"/search?ie=UTF-8&amp;q=ford+zoominfo&amp;spell=1\" id=\"scl\">\\n       <b>\\n        <i>\\n         ford zoominfo\\n        </i>\\n       </b>\\n      </a>\\n      <script nonce=\"6+cKmQNEejTs0XuLlRybEA==\">\\n       (function(){var q=\\'ford zoominfo\\';(function(){var a=document.getElementById(\"scl\");a.onclick=function(b){document.getElementsByName(\"q\")[0].value=q;document.getElementById(\"scc\").outerHTML=\"\";window.logVe(a);b.preventDefault()};}).call(this);})();\\n      </script>\\n     </div>\\n     <div class=\"MUxGbd lyLwlc\">\\n      Search instead for\\n      <a href=\"/search?ie=UTF-8&amp;q=fordzoominfo&amp;nfpr=1&amp;sa=X&amp;ved=2ahUKEwi58rLZzLvkAhUSDbkGHXf_BdoQvgV6BAgLEAI\">\\n       fordzoominfo\\n      </a>\\n     </div>\\n    </div>\\n   </div>\\n   <div>\\n    <div class=\"ZINbbc xpd O9g5cc uUPGi\">\\n     <div class=\"kCrYT\">\\n      <a href=\"/url?q=https://www.zoominfo.com/c/ford-motor-company/43897815&amp;sa=U&amp;ved=2ahUKEwi58rLZzLvkAhUSDbkGHXf_BdoQFjAAegQIBBAB&amp;usg=AOvVaw06Fq8kZ3j1l88lh3-OyEok\">\\n       <div class=\"BNeawe vvjwJb AP7Wnd\">\\n        Ford Motor France - Overview, News &amp; Competitors | ZoomInfo.com\\n       </div>\\n       <div class=\"BNeawe UPmit AP7Wnd\">\\n        https://www.zoominfo.com › ford-motor-company\\n       </div>\\n      </a>\\n     </div>\\n     <div class=\"x54gtf\">\\n     </div>\\n     <div class=\"kCrYT\">\\n      <div>\\n       <div class=\"BNeawe s3v9rd AP7Wnd\">\\n        <div>\\n         <div>\\n          <div class=\"BNeawe s3v9rd AP7Wnd\">\\n           View Ford Motor France (www.ford.com) location in Michigan, United States , revenue, industry and description. Find related and similar companies as well as \\xa0...\\n\\nRevenue:\\n           <span class=\"r0bn4c rQMQod\">\\n            160.3B\\n           </span>\\n           Headquarters:\\n           <span class=\"r0bn4c rQMQod\">\\n            One American Rd., Dearborn, Michigan, 48126, United States\\n           </span>\\n           Employees:\\n           <span class=\"r0bn4c rQMQod\">\\n            199,000\\n           </span>\\n          </div>\\n         </div>\\n        </div>\\n       </div>\\n      </div>\\n     </div>\\n    </div>\\n   </div>\\n   <div>\\n    <div class=\"ZINbbc xpd O9g5cc uUPGi\">\\n     <div class=\"kCrYT\">\\n      <a href=\"/url?q=https://www.zoominfo.com/c/ford/46403567&amp;sa=U&amp;ved=2ahUKEwi58rLZzLvkAhUSDbkGHXf_BdoQFjABegQIChAB&amp;usg=AOvVaw2ApvckFFDgjMmpmctZo2Zk\">\\n       <div class=\"BNeawe vvjwJb AP7Wnd\">\\n        Ford - Overview, News &amp; Competitors | ZoomInfo.com\\n       </div>\\n       <div class=\"BNeawe UPmit AP7Wnd\">\\n        https://www.zoominfo.com › ford\\n       </div>\\n      </a>\\n     </div>\\n     <div class=\"x54gtf\">\\n     </div>\\n     <div class=\"kCrYT\">\\n      <div>\\n       <div class=\"BNeawe s3v9rd AP7Wnd\">\\n        <div>\\n         <div>\\n          <div class=\"BNeawe s3v9rd AP7Wnd\">\\n           View Ford (www.ford.com) location in California, United States , revenue, industry and description. Find related and similar companies as well as employees by\\xa0...\\n          </div>\\n         </div>\\n        </div>\\n       </div>\\n      </div>\\n     </div>\\n    </div>\\n   </div>\\n   <div>\\n    <div class=\"ZINbbc xpd O9g5cc uUPGi\">\\n     <div class=\"kCrYT\">\\n      <a href=\"/url?q=https://www.zoominfo.com/c/ford/356747313&amp;sa=U&amp;ved=2ahUKEwi58rLZzLvkAhUSDbkGHXf_BdoQFjACegQICRAB&amp;usg=AOvVaw24dy6Xala48WkvtdwBgc3C\">\\n       <div class=\"BNeawe vvjwJb AP7Wnd\">\\n        Ford - Overview, News &amp; Competitors | ZoomInfo.com\\n       </div>\\n       <div class=\"BNeawe UPmit AP7Wnd\">\\n        https://www.zoominfo.com › ford\\n       </div>\\n      </a>\\n     </div>\\n     <div class=\"x54gtf\">\\n     </div>\\n     <div class=\"kCrYT\">\\n      <div>\\n       <div class=\"BNeawe s3v9rd AP7Wnd\">\\n        <div>\\n         <div>\\n          <div class=\"BNeawe s3v9rd AP7Wnd\">\\n           View Ford (www.ford.com) location in Gujarat, India , revenue, industry and description. Find related and similar companies as well as employees by title and \\xa0...\\n          </div>\\n         </div>\\n        </div>\\n       </div>\\n      </div>\\n     </div>\\n    </div>\\n   </div>\\n   <div>\\n    <div class=\"ZINbbc xpd O9g5cc uUPGi\">\\n     <div class=\"kCrYT\">\\n      <a href=\"/url?q=https://www.zoominfo.com/c/freedom-ford-inc/57002368&amp;sa=U&amp;ved=2ahUKEwi58rLZzLvkAhUSDbkGHXf_BdoQFjADegQICBAB&amp;usg=AOvVaw0gRLSHu3SkSXXqTvh1x1CA\">\\n       <div class=\"BNeawe vvjwJb AP7Wnd\">\\n        Freedom Ford Inc - Overview, News &amp; Competitors | ZoomInfo.com\\n       </div>\\n       <div class=\"BNeawe UPmit AP7Wnd\">\\n        https://www.zoominfo.com › freedom-ford-inc\\n       </div>\\n      </a>\\n     </div>\\n     <div class=\"x54gtf\">\\n     </div>\\n     <div class=\"kCrYT\">\\n      <div>\\n       <div class=\"BNeawe s3v9rd AP7Wnd\">\\n        <div>\\n         <div>\\n          <div class=\"BNeawe s3v9rd AP7Wnd\">\\n           View Freedom Ford Inc (www.freedomford.com) location in Virginia, United States , revenue, industry and description. Find related and similar companies as \\xa0...\\n          </div>\\n         </div>\\n        </div>\\n       </div>\\n      </div>\\n     </div>\\n    </div>\\n   </div>\\n   <div>\\n    <div class=\"ZINbbc xpd O9g5cc uUPGi\">\\n     <div class=\"kCrYT\">\\n      <a href=\"/url?q=https://www.zoominfo.com/c/ford-motor-company/429895706&amp;sa=U&amp;ved=2ahUKEwi58rLZzLvkAhUSDbkGHXf_BdoQFjAEegQIBhAB&amp;usg=AOvVaw0GKww6JBi5BPYeOe_5_gvW\">\\n       <div class=\"BNeawe vvjwJb AP7Wnd\">\\n        ford.gr - Overview, News &amp; Competitors | ZoomInfo.com\\n       </div>\\n       <div class=\"BNeawe UPmit AP7Wnd\">\\n        https://www.zoominfo.com › ford-motor-company\\n       </div>\\n      </a>\\n     </div>\\n     <div class=\"x54gtf\">\\n     </div>\\n     <div class=\"kCrYT\">\\n      <div>\\n       <div class=\"BNeawe s3v9rd AP7Wnd\">\\n        <div>\\n         <div>\\n          <div class=\"BNeawe s3v9rd AP7Wnd\">\\n           View ford.gr (www.ford.gr) location in Attica, Greece , revenue, industry and description. Find related and similar companies as well as employees by title and \\xa0...\\n          </div>\\n         </div>\\n        </div>\\n       </div>\\n      </div>\\n     </div>\\n    </div>\\n   </div>\\n   <div>\\n    <div class=\"ZINbbc xpd O9g5cc uUPGi\">\\n     <div class=\"kCrYT\">\\n      <a href=\"/url?q=https://www.zoominfo.com/c/boggus-ford/7817021&amp;sa=U&amp;ved=2ahUKEwi58rLZzLvkAhUSDbkGHXf_BdoQFjAFegQIBRAB&amp;usg=AOvVaw1k4JPuWeA9Ctx7IUBF39RW\">\\n       <div class=\"BNeawe vvjwJb AP7Wnd\">\\n        Boggus Ford - Overview, News &amp; Competitors | ZoomInfo.com\\n       </div>\\n       <div class=\"BNeawe UPmit AP7Wnd\">\\n        https://www.zoominfo.com › boggus-ford\\n       </div>\\n      </a>\\n     </div>\\n     <div class=\"x54gtf\">\\n     </div>\\n     <div class=\"kCrYT\">\\n      <div>\\n       <div class=\"BNeawe s3v9rd AP7Wnd\">\\n        <div>\\n         <div>\\n          <div class=\"BNeawe s3v9rd AP7Wnd\">\\n           View Boggus Ford (boggusautogroup.com) location in Texas, United States , revenue, industry and description. Find related and similar companies as well as \\xa0...\\n          </div>\\n         </div>\\n        </div>\\n       </div>\\n      </div>\\n     </div>\\n    </div>\\n   </div>\\n   <div>\\n    <div class=\"ZINbbc xpd O9g5cc uUPGi\">\\n     <div class=\"kCrYT\">\\n      <a href=\"/url?q=https://www.zoominfo.com/c/ford-av/46403529&amp;sa=U&amp;ved=2ahUKEwi58rLZzLvkAhUSDbkGHXf_BdoQFjAGegQIBxAB&amp;usg=AOvVaw1Xrml2EqT8gqO8C05qJccO\">\\n       <div class=\"BNeawe vvjwJb AP7Wnd\">\\n        Ford AV - Overview, News &amp; Competitors | ZoomInfo.com\\n       </div>\\n       <div class=\"BNeawe UPmit AP7Wnd\">\\n        https://www.zoominfo.com › ford-av\\n       </div>\\n      </a>\\n     </div>\\n     <div class=\"x54gtf\">\\n     </div>\\n     <div class=\"kCrYT\">\\n      <div>\\n       <div class=\"BNeawe s3v9rd AP7Wnd\">\\n        <div>\\n         <div>\\n          <div class=\"BNeawe s3v9rd AP7Wnd\">\\n           View Ford AV (www.fordav.com) location in Oklahoma, United States , revenue, industry and description. Find related and similar companies as well as\\xa0...\\n          </div>\\n         </div>\\n        </div>\\n       </div>\\n      </div>\\n     </div>\\n    </div>\\n   </div>\\n   <div>\\n    <div class=\"ZINbbc xpd O9g5cc uUPGi\">\\n     <div class=\"kCrYT\">\\n      <a href=\"/url?q=https://www.zoominfo.com/c/eclipse-ford/63311248&amp;sa=U&amp;ved=2ahUKEwi58rLZzLvkAhUSDbkGHXf_BdoQFjAHegQIARAB&amp;usg=AOvVaw24jcikKxKBBX0IrSSdKRuO\">\\n       <div class=\"BNeawe vvjwJb AP7Wnd\">\\n        Eclipse Ford - Overview, News &amp; Competitors | ZoomInfo.com\\n       </div>\\n       <div class=\"BNeawe UPmit AP7Wnd\">\\n        https://www.zoominfo.com › eclipse-ford\\n       </div>\\n      </a>\\n     </div>\\n     <div class=\"x54gtf\">\\n     </div>\\n     <div class=\"kCrYT\">\\n      <div>\\n       <div class=\"BNeawe s3v9rd AP7Wnd\">\\n        <div>\\n         <div>\\n          <div class=\"BNeawe s3v9rd AP7Wnd\">\\n           View Eclipse Ford (www.eclipseford.com.au) location in Victoria, Australia , revenue, industry and description. Find related and similar companies as well as \\xa0...\\n          </div>\\n         </div>\\n        </div>\\n       </div>\\n      </div>\\n     </div>\\n    </div>\\n   </div>\\n   <div>\\n    <div class=\"ZINbbc xpd O9g5cc uUPGi\">\\n     <div class=\"kCrYT\">\\n      <a href=\"/url?q=https://www.zoominfo.com/c/henry-ford-museum/44254569&amp;sa=U&amp;ved=2ahUKEwi58rLZzLvkAhUSDbkGHXf_BdoQFjAIegQIAxAB&amp;usg=AOvVaw0MCSfFFqom4xoC8NLaBJkU\">\\n       <div class=\"BNeawe vvjwJb AP7Wnd\">\\n        Henry Ford Museum - Overview, News &amp; Competitors | ZoomInfo.com\\n       </div>\\n       <div class=\"BNeawe UPmit AP7Wnd\">\\n        https://www.zoominfo.com › henry-ford-museum\\n       </div>\\n      </a>\\n     </div>\\n     <div class=\"x54gtf\">\\n     </div>\\n     <div class=\"kCrYT\">\\n      <div>\\n       <div class=\"BNeawe s3v9rd AP7Wnd\">\\n        <div>\\n         <div>\\n          <div class=\"BNeawe s3v9rd AP7Wnd\">\\n           View Henry Ford Museum (www.thehenryford.org) location in Michigan, United States , revenue, industry and description. Find related and similar companies as \\xa0...\\n          </div>\\n         </div>\\n        </div>\\n       </div>\\n      </div>\\n     </div>\\n    </div>\\n   </div>\\n   <div>\\n    <div class=\"ZINbbc xpd O9g5cc uUPGi\">\\n     <div class=\"kCrYT\">\\n      <a href=\"/url?q=https://www.zoominfo.com/c/sun-state-ford-inc/113034033&amp;sa=U&amp;ved=2ahUKEwi58rLZzLvkAhUSDbkGHXf_BdoQFjAJegQIAhAB&amp;usg=AOvVaw1GF94rm-PvXGa693I1LUVA\">\\n       <div class=\"BNeawe vvjwJb AP7Wnd\">\\n        Sun State Ford Inc - Overview, News &amp; Competitors | ZoomInfo.com\\n       </div>\\n       <div class=\"BNeawe UPmit AP7Wnd\">\\n        https://www.zoominfo.com › sun-state-ford-inc\\n       </div>\\n      </a>\\n     </div>\\n     <div class=\"x54gtf\">\\n     </div>\\n     <div class=\"kCrYT\">\\n      <div>\\n       <div class=\"BNeawe s3v9rd AP7Wnd\">\\n        <div>\\n         <div>\\n          <div class=\"BNeawe s3v9rd AP7Wnd\">\\n           View Sun State Ford Inc (sunstatefordorlando.com) location in Florida, United States , revenue, industry and description. Find related and similar companies as \\xa0...\\n          </div>\\n         </div>\\n        </div>\\n       </div>\\n      </div>\\n     </div>\\n    </div>\\n   </div>\\n   <div>\\n    <div class=\"ZINbbc xpd O9g5cc uUPGi\">\\n     <div class=\"kCrYT\">\\n      <span>\\n       <div class=\"BNeawe deIvCb AP7Wnd\">\\n        <span class=\"FCUp0c rQMQod\">\\n         Related searches\\n        </span>\\n       </div>\\n      </span>\\n     </div>\\n     <div class=\"x54gtf\">\\n     </div>\\n     <div class=\"X7NTVe\">\\n      <a class=\"tHmfQe\" href=\"/search?ie=UTF-8&amp;q=ford+about+us&amp;sa=X&amp;ved=2ahUKEwi58rLZzLvkAhUSDbkGHXf_BdoQ1QJ6BAgAEAE\">\\n       <div class=\"am3QBf\">\\n        <div>\\n         <span>\\n          <div class=\"BNeawe deIvCb AP7Wnd\">\\n           ford about us\\n          </div>\\n         </span>\\n        </div>\\n       </div>\\n      </a>\\n      <div class=\"HBTM6d XS7yGd\">\\n       <a href=\"/search?ie=UTF-8&amp;q=ford+about+us\">\\n        <div class=\"BNeawe mAdjQc uEec3 AP7Wnd\">\\n         &gt;\\n        </div>\\n       </a>\\n      </div>\\n     </div>\\n     <div class=\"x54gtf\">\\n     </div>\\n     <div class=\"X7NTVe\">\\n      <a class=\"tHmfQe\" href=\"/search?ie=UTF-8&amp;q=ford+linkedin&amp;sa=X&amp;ved=2ahUKEwi58rLZzLvkAhUSDbkGHXf_BdoQ1QJ6BAgAEAI\">\\n       <div class=\"am3QBf\">\\n        <div>\\n         <span>\\n          <div class=\"BNeawe deIvCb AP7Wnd\">\\n           ford linkedin\\n          </div>\\n         </span>\\n        </div>\\n       </div>\\n      </a>\\n      <div class=\"HBTM6d XS7yGd\">\\n       <a href=\"/search?ie=UTF-8&amp;q=ford+linkedin\">\\n        <div class=\"BNeawe mAdjQc uEec3 AP7Wnd\">\\n         &gt;\\n        </div>\\n       </a>\\n      </div>\\n     </div>\\n     <div class=\"x54gtf\">\\n     </div>\\n     <div class=\"X7NTVe\">\\n      <a class=\"tHmfQe\" href=\"/search?ie=UTF-8&amp;q=ford+organizational+chart&amp;sa=X&amp;ved=2ahUKEwi58rLZzLvkAhUSDbkGHXf_BdoQ1QJ6BAgAEAM\">\\n       <div class=\"am3QBf\">\\n        <div>\\n         <span>\\n          <div class=\"BNeawe deIvCb AP7Wnd\">\\n           ford organizational chart\\n          </div>\\n         </span>\\n        </div>\\n       </div>\\n      </a>\\n      <div class=\"HBTM6d XS7yGd\">\\n       <a href=\"/search?ie=UTF-8&amp;q=ford+organizational+chart\">\\n        <div class=\"BNeawe mAdjQc uEec3 AP7Wnd\">\\n         &gt;\\n        </div>\\n       </a>\\n      </div>\\n     </div>\\n     <div class=\"x54gtf\">\\n     </div>\\n     <div class=\"X7NTVe\">\\n      <a class=\"tHmfQe\" href=\"/search?ie=UTF-8&amp;q=ford+tagline+2018&amp;sa=X&amp;ved=2ahUKEwi58rLZzLvkAhUSDbkGHXf_BdoQ1QJ6BAgAEAQ\">\\n       <div class=\"am3QBf\">\\n        <div>\\n         <span>\\n          <div class=\"BNeawe deIvCb AP7Wnd\">\\n           ford tagline 2018\\n          </div>\\n         </span>\\n        </div>\\n       </div>\\n      </a>\\n      <div class=\"HBTM6d XS7yGd\">\\n       <a href=\"/search?ie=UTF-8&amp;q=ford+tagline+2018\">\\n        <div class=\"BNeawe mAdjQc uEec3 AP7Wnd\">\\n         &gt;\\n        </div>\\n       </a>\\n      </div>\\n     </div>\\n     <div class=\"x54gtf\">\\n     </div>\\n     <div class=\"X7NTVe\">\\n      <a class=\"tHmfQe\" href=\"/search?ie=UTF-8&amp;q=ford+global+technologies&amp;sa=X&amp;ved=2ahUKEwi58rLZzLvkAhUSDbkGHXf_BdoQ1QJ6BAgAEAU\">\\n       <div class=\"am3QBf\">\\n        <div>\\n         <span>\\n          <div class=\"BNeawe deIvCb AP7Wnd\">\\n           ford global technologies\\n          </div>\\n         </span>\\n        </div>\\n       </div>\\n      </a>\\n      <div class=\"HBTM6d XS7yGd\">\\n       <a href=\"/search?ie=UTF-8&amp;q=ford+global+technologies\">\\n        <div class=\"BNeawe mAdjQc uEec3 AP7Wnd\">\\n         &gt;\\n        </div>\\n       </a>\\n      </div>\\n     </div>\\n     <div class=\"x54gtf\">\\n     </div>\\n     <div class=\"X7NTVe\">\\n      <a class=\"tHmfQe\" href=\"/search?ie=UTF-8&amp;q=ford+employee+email&amp;sa=X&amp;ved=2ahUKEwi58rLZzLvkAhUSDbkGHXf_BdoQ1QJ6BAgAEAY\">\\n       <div class=\"am3QBf\">\\n        <div>\\n         <span>\\n          <div class=\"BNeawe deIvCb AP7Wnd\">\\n           ford employee email\\n          </div>\\n         </span>\\n        </div>\\n       </div>\\n      </a>\\n      <div class=\"HBTM6d XS7yGd\">\\n       <a href=\"/search?ie=UTF-8&amp;q=ford+employee+email\">\\n        <div class=\"BNeawe mAdjQc uEec3 AP7Wnd\">\\n         &gt;\\n        </div>\\n       </a>\\n      </div>\\n     </div>\\n     <div class=\"x54gtf\">\\n     </div>\\n     <div class=\"X7NTVe\">\\n      <a class=\"tHmfQe\" href=\"/search?ie=UTF-8&amp;q=ford+international+sales&amp;sa=X&amp;ved=2ahUKEwi58rLZzLvkAhUSDbkGHXf_BdoQ1QJ6BAgAEAc\">\\n       <div class=\"am3QBf\">\\n        <div>\\n         <span>\\n          <div class=\"BNeawe deIvCb AP7Wnd\">\\n           ford international sales\\n          </div>\\n         </span>\\n        </div>\\n       </div>\\n      </a>\\n      <div class=\"HBTM6d XS7yGd\">\\n       <a href=\"/search?ie=UTF-8&amp;q=ford+international+sales\">\\n        <div class=\"BNeawe mAdjQc uEec3 AP7Wnd\">\\n         &gt;\\n        </div>\\n       </a>\\n      </div>\\n     </div>\\n     <div class=\"x54gtf\">\\n     </div>\\n     <div class=\"X7NTVe\">\\n      <a class=\"tHmfQe\" href=\"/search?ie=UTF-8&amp;q=ford+organizational+structure&amp;sa=X&amp;ved=2ahUKEwi58rLZzLvkAhUSDbkGHXf_BdoQ1QJ6BAgAEAg\">\\n       <div class=\"am3QBf\">\\n        <div>\\n         <span>\\n          <div class=\"BNeawe deIvCb AP7Wnd\">\\n           ford organizational structure\\n          </div>\\n         </span>\\n        </div>\\n       </div>\\n      </a>\\n      <div class=\"HBTM6d XS7yGd\">\\n       <a href=\"/search?ie=UTF-8&amp;q=ford+organizational+structure\">\\n        <div class=\"BNeawe mAdjQc uEec3 AP7Wnd\">\\n         &gt;\\n        </div>\\n       </a>\\n      </div>\\n     </div>\\n    </div>\\n   </div>\\n   <footer>\\n    <div>\\n     <div class=\"ZINbbc xpd O9g5cc uUPGi BmP5tf\">\\n      <div class=\"nMymef MUxGbd lyLwlc\">\\n       <a aria-label=\"Next page\" class=\"nBDE1b G5eFlf\" href=\"/search?q=ford+zoominfo&amp;ie=UTF-8&amp;ei=swByXfnMBZKa5OUP9_6X0A0&amp;start=10&amp;sa=N\">\\n        Next &gt;\\n       </a>\\n      </div>\\n     </div>\\n    </div>\\n    <div id=\"mCljob\">\\n     <div>\\n      <a href=\"/url?q=https://accounts.google.com/ServiceLogin%3Fcontinue%3Dhttp://www.google.com/search%253Fq%253Dfordzoominfo%26hl%3Den&amp;sa=U&amp;ved=0ahUKEwi58rLZzLvkAhUSDbkGHXf_BdoQxs8CCD4&amp;usg=AOvVaw3LI2W6i7sp4MUXeK-JNniE\">\\n       Sign in\\n      </a>\\n     </div>\\n     <div>\\n      <a class=\"ksTU4c\" href=\"http://www.google.com/preferences?hl=en-IN&amp;fg=1&amp;sa=X&amp;ved=0ahUKEwi58rLZzLvkAhUSDbkGHXf_BdoQ5fUCCD8\">\\n       Settings\\n      </a>\\n      <a class=\"ksTU4c\" href=\"//www.google.com/intl/en_in/policies/privacy/?fg=1\">\\n       Privacy\\n      </a>\\n      <a class=\"ksTU4c\" href=\"//www.google.com/intl/en_in/policies/terms/?fg=1\">\\n       Terms\\n      </a>\\n     </div>\\n    </div>\\n   </footer>\\n   <script nonce=\"6+cKmQNEejTs0XuLlRybEA==\">\\n    (function(){var hl=\\'en-IN\\';(function(){var b=this||self,d=/^[\\\\w+/_-]+[=]{0,2}$/,e=null;var f=document.querySelector(\".l\"),g=document.querySelector(\"#sf\"),k=g.querySelector(\".sbc\"),l=g.querySelector(\"[type=text]\"),m=g.querySelector(\"[type=submit]\"),n=g.querySelector(\".sc\"),p=g.querySelector(\".x\"),q=l.value,r=[],t=-1,u=q,w,x,y;q||(p&&(p.style.display=\"none\"),z(!1));function z(a){if(k.classList.contains(\"esbc\")){var c=k.classList.contains(\"chsbc\"),h=k.classList.contains(\"rtlsbc\");a&&(n.style.display=\"block\",c?(g.style.borderRadius=\"20px 20px 0 0\",n.style.borderBottom=\"1px solid #DFE1E5\",m.style.borderRadius=h?\"20px 0 0 0\":\"0 20px 0 0\"):k.style.borderRadius=h?\"0 8px 0 0\":\"8px 0 0 0\");a||(n.style.display=\"none\",c?(g.style.borderRadius=\"20px\",n.style.borderBottom=\"none\",m.style.borderRadius=h?\"20px 0 0 20px\":\"0 20px 20px 0\"):k.style.borderRadius=h?\"0 8px 8px 0\":\"8px 0 0 8px\")}}function A(){g.querySelector(\"[name=oq]\").value=u;g.querySelector(\"[name=aqs]\").value=\"heirloom-srp.\"+(0<=t?t:\"\")+\".\"+(0<r.length?\"0l\"+r.length:\"\")}\\nfunction C(){w=null;if(x){var a=\"/complete/search?client=heirloom-srp&hl=\"+hl+\"&json=t&callback=hS&q=\"+encodeURIComponent(x);\"undefined\"!==typeof ds&&ds&&(a+=\"&ds=\"+ds);var c=document.createElement(\"script\");c.src=a;if(null===e)a:{a=b.document;if((a=a.querySelector&&a.querySelector(\"script[nonce]\"))&&(a=a.nonce||a.getAttribute(\"nonce\"))&&d.test(a)){e=a;break a}e=\"\"}(a=e)&&c.setAttribute(\"nonce\",a);document.body.appendChild(c);x=null;w=setTimeout(C,500)}}\\nfunction D(){for(;n.firstChild;)n.removeChild(n.firstChild);r=[];t=-1;z(!1)}function E(){var a=n.querySelector(\".scs\");a&&(a.className=\"\");0<=t?(a=n.childNodes[t],a.className=\"scs\",q=a.textContent):q=u;l.value=q}l.addEventListener(\"focus\",function(){f&&(f.style.display=\"none\")},!1);l.addEventListener(\"blur\",function(){D();f&&(f.style.display=\"\")},!1);l.addEventListener(\"keyup\",function(a){q=l.value;y=!1;13==a.which?A():27==a.which?(D(),f&&(f.style.display=\"\"),q=u,l.value=q):40==a.which?(t++,t>=r.length&&(t=-1),E()):38==a.which?(t--,-1>t&&(t=r.length-1),E()):(a=q)?(p&&(p.style.display=\"\"),x=a,w||C(),u=a):(p&&(p.style.display=\"none\"),z(!1),D(),u=\"\",y=!0)},!1);m.addEventListener(\"click\",A,!1);p.addEventListener(\"click\",function(){l.value=\"\";p.style.display=\"none\";z(!1)},!1);k.addEventListener(\"click\",function(){l.focus()},!1);window.hS=function(a){if(!y){D();0==a[1].length&&z(!1);for(var c=0;c<a[1].length;c++){var h=a[1][c][0],v=document.createElement(\"div\");v.innerHTML=h;v.addEventListener(\"mousedown\",function(B){B.preventDefault();return!1},!1);h=h.replace(/<\\\\/?b>/g,\"\");v.addEventListener(\"click\",function(B){return function(){t=B;A();E();D();g.submit()}}(c),!1);n.appendChild(v);z(!0);r.push(h)}}};}).call(this);})();(function(){function b(a){for(a=a.target||a.srcElement;a&&\"A\"!=a.nodeName;)a=a.parentElement;a&&(a.href||\"\").match(/\\\\/search.*[?&]tbm=isch/)&&(a.href+=\"&biw=\"+document.documentElement.clientWidth,a.href+=\"&bih=\"+document.documentElement.clientHeight)}document.addEventListener(\"click\",b,!1);document.addEventListener(\"touchStart\",b,!1);}).call(this);\\n   </script>\\n  </div>\\n  <!-- cctlcm 5 cctlcm -->\\n  <textarea class=\"csi\" name=\"csi\" style=\"display:none\"></textarea>\\n  <script nonce=\"6+cKmQNEejTs0XuLlRybEA==\">\\n   (function(){var e=\\'swByXfnMBZKa5OUP9_6X0A0\\';var sn=\\'web\\';(function(){var q=function(a){var c=window,d=document;if(!a||\"none\"==a.style.display)return 0;if(d.defaultView&&d.defaultView.getComputedStyle){var b=d.defaultView.getComputedStyle(a);if(b&&(\"hidden\"==b.visibility||\"0px\"==b.height&&\"0px\"==b.width))return 0}if(!a.getBoundingClientRect)return 1;var f=a.getBoundingClientRect();a=f.left+c.pageXOffset;b=f.top+c.pageYOffset;var k=f.width;f=f.height;return 0>=f&&0>=k?0:0>b+f?2:b>=(c.innerHeight||d.documentElement.clientHeight)?3:0>a+k||a>=(c.innerWidth||d.documentElement.clientWidth)?4:1};var r=e,v=sn;function w(a,c,d){a=\"/gen_204?atyp=csi&s=\"+(v||\"web\")+\"&t=\"+a+(\"&lite=1&ei=\"+r+\"&conn=\"+(window.navigator&&window.navigator.connection?window.navigator.connection.type:-1)+c);c=\"&rt=\";for(var b in d)a+=c+b+\".\"+d[b],c=\",\";return a}function x(a){a={prt:a};window.wsrt&&(a.wsrt=window.wsrt);return a}function y(a){window.ping?window.ping(a):(new Image).src=a}\\n(function(){for(var a=+new Date-window.start,c=x(a),d=0,b=0,f=0,k=document.getElementsByTagName(\"img\"),m=\"&imn=\"+k.length+\"&biw=\"+window.innerWidth+\"&bih=\"+window.innerHeight,A=function(h,z){h.onload=function(){b=+new Date-window.start;z&&++n==f&&(d=b,t());h.onload=null}},t=function(){m+=\"&ima=\"+f;c.aft=d;y(w(\"aft\",m,c))},n=0,B=0,g=void 0;g=k[B++];){var l=1==q(g);l&&++f;var u=g.complete&&!g.getAttribute(\"data-deferred\"),p=u&&Number(g.getAttribute(\"data-iml\"))||0;u&&p?(l&&++n,p&&(g=p-window.start,l&&(d=Math.max(d,g)),b=Math.max(b,g))):A(g,l)}d||(d=a);b||(b=d);n==f&&t();window.addEventListener(\"load\",function(){window.setTimeout(function(){c.ol=+new Date-window.start;c.iml=b;var h=window.performance&&window.performance.timing;h&&(c.rqst=h.responseEnd-h.requestStart,c.rspt=h.responseEnd-h.responseStart);y(w(\"all\",m,c))},0)},!1)})();}).call(this);})();\\n  </script>\\n  <script nonce=\"6+cKmQNEejTs0XuLlRybEA==\">\\n   (function(){var e=\\'swByXfnMBZKa5OUP9_6X0A0\\';(function(){var a=e,b=window.performance&&window.performance.navigation;b&&2==b.type&&window.ping(\"/gen_204?ct=backbutton&ei=\"+a);}).call(this);})();(function(){(function(){google.csct={};google.csct.ps=\\'AOvVaw3fjRC50u4aF9Ax2pmtWI5U\\\\x26ust\\\\x3d1567838771124449\\';})();})();(function(){(function(){google.csct.rd=true;})();})();(function(){(function(){window.logVe=function(a){a&&a.attributes[\"data-ved\"]&&window.ping(\"/gen_204?ved=\"+a.attributes[\"data-ved\"].value)};}).call(this);})();google.drty&&google.drty();\\n  </script>\\n </body>\\n</html>'"
      ]
     },
     "execution_count": 109,
     "metadata": {},
     "output_type": "execute_result"
    }
   ],
   "source": [
    "soup.prettify()"
   ]
  },
  {
   "cell_type": "code",
   "execution_count": 282,
   "metadata": {},
   "outputs": [
    {
     "data": {
      "text/plain": [
       "'C:\\\\Users\\\\Bhavesh Singh Bisht'"
      ]
     },
     "execution_count": 282,
     "metadata": {},
     "output_type": "execute_result"
    }
   ],
   "source": [
    "filehandle=open(\"output_file.csv\")\n",
    "fileDir = os.path.dirname(os.path.realpath('output_file.csv'))\n",
    "fileDir"
   ]
  }
 ],
 "metadata": {
  "kernelspec": {
   "display_name": "Python 3",
   "language": "python",
   "name": "python3"
  },
  "language_info": {
   "codemirror_mode": {
    "name": "ipython",
    "version": 3
   },
   "file_extension": ".py",
   "mimetype": "text/x-python",
   "name": "python",
   "nbconvert_exporter": "python",
   "pygments_lexer": "ipython3",
   "version": "3.6.8"
  }
 },
 "nbformat": 4,
 "nbformat_minor": 2
}
